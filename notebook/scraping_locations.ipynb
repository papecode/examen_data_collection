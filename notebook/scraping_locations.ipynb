{
 "cells": [
  {
   "cell_type": "code",
   "id": "initial_id",
   "metadata": {
    "collapsed": true,
    "ExecuteTime": {
     "end_time": "2025-07-14T14:19:08.588132Z",
     "start_time": "2025-07-14T14:19:08.109491Z"
    }
   },
   "source": [
    "import pandas as pd\n",
    "import time\n",
    "import re\n",
    "from selenium import webdriver\n",
    "from selenium.webdriver.common.by import By\n",
    "from selenium.webdriver.chrome.options import Options"
   ],
   "outputs": [],
   "execution_count": 1
  },
  {
   "metadata": {
    "ExecuteTime": {
     "end_time": "2025-07-14T14:19:17.092225Z",
     "start_time": "2025-07-14T14:19:17.087522Z"
    }
   },
   "cell_type": "code",
   "source": [
    "def clean_text(text):\n",
    "    return re.sub(r'\\s+', ' ', text.strip().replace('\\u202f', ''))"
   ],
   "id": "6efaaa045765ca1d",
   "outputs": [],
   "execution_count": 2
  },
  {
   "metadata": {
    "ExecuteTime": {
     "end_time": "2025-07-14T14:19:25.259878Z",
     "start_time": "2025-07-14T14:19:23.254207Z"
    }
   },
   "cell_type": "code",
   "source": [
    "options = Options()\n",
    "options.add_argument(\"--headless\")\n",
    "driver = webdriver.Chrome(options=options)"
   ],
   "id": "f45e84cb2e4d384a",
   "outputs": [],
   "execution_count": 3
  },
  {
   "metadata": {
    "ExecuteTime": {
     "end_time": "2025-07-14T14:21:37.840225Z",
     "start_time": "2025-07-14T14:20:56.880191Z"
    }
   },
   "cell_type": "code",
   "source": [
    "data = []\n",
    "\n",
    "for page in range(1, 11):\n",
    "    url = f\"https://dakar-auto.com/senegal/location-de-voitures-19?page={page}\"\n",
    "    print(f\"🔎 Scraping page {page}...\")\n",
    "\n",
    "    try:\n",
    "        driver.get(url)\n",
    "        time.sleep(2)\n",
    "\n",
    "        annonces = driver.find_elements(By.CSS_SELECTOR, \".listings-cards__list-item\")\n",
    "\n",
    "        for annonce in annonces:\n",
    "            try:\n",
    "                # ✅ V1 : marque & V2 : année\n",
    "                titre = clean_text(annonce.find_element(By.CSS_SELECTOR, \"h2 a\").text)\n",
    "                parts = titre.split()\n",
    "                marque = parts[0] if len(parts) > 0 else \"\"\n",
    "                annee = parts[-1] if parts[-1].isdigit() and len(parts[-1]) == 4 else \"\"\n",
    "\n",
    "                # ✅ V3 : prix\n",
    "                prix = clean_text(annonce.find_element(By.CSS_SELECTOR, \"h3\").text)\n",
    "                prix = prix.replace(\"F CFA\", \"\").replace(\" \", \"\")\n",
    "\n",
    "                # ✅ V4 : adresse (ville + région)\n",
    "                ville = \"\"\n",
    "                region = \"\"\n",
    "                try:\n",
    "                    ville = clean_text(annonce.find_element(By.CLASS_NAME, \"town-suburb\").text)\n",
    "                except:\n",
    "                    pass\n",
    "                try:\n",
    "                    region = clean_text(annonce.find_element(By.CLASS_NAME, \"province\").text)\n",
    "                except:\n",
    "                    pass\n",
    "                adresse = f\"{ville}{region}\".strip(\",\")\n",
    "\n",
    "                # ✅ V5 : propriétaire (sans \"Par \")\n",
    "                try:\n",
    "                    proprio = clean_text(annonce.find_element(By.CLASS_NAME, \"time-author\").text.replace(\"Par \", \"\"))\n",
    "                except:\n",
    "                    proprio = \"\"\n",
    "\n",
    "                data.append({\n",
    "                    \"marque\": marque,\n",
    "                    \"annee\": annee,\n",
    "                    \"prix (FCFA)\": prix,\n",
    "                    \"adresse\": adresse,\n",
    "                    \"proprietaire\": proprio\n",
    "                })\n",
    "\n",
    "            except Exception as e:\n",
    "                print(f\"⚠️ Erreur dans une annonce : {e}\")\n",
    "                continue\n",
    "\n",
    "    except Exception as e:\n",
    "        print(f\"❌ Erreur chargement page {page} : {e}\")\n",
    "        continue\n",
    "\n",
    "driver.quit()"
   ],
   "id": "97c83693254dd922",
   "outputs": [
    {
     "name": "stdout",
     "output_type": "stream",
     "text": [
      "🔎 Scraping page 1...\n",
      "🔎 Scraping page 2...\n",
      "🔎 Scraping page 3...\n",
      "🔎 Scraping page 4...\n",
      "🔎 Scraping page 5...\n",
      "🔎 Scraping page 6...\n",
      "🔎 Scraping page 7...\n",
      "🔎 Scraping page 8...\n",
      "🔎 Scraping page 9...\n",
      "🔎 Scraping page 10...\n"
     ]
    }
   ],
   "execution_count": 4
  },
  {
   "metadata": {
    "ExecuteTime": {
     "end_time": "2025-07-14T14:21:41.223464Z",
     "start_time": "2025-07-14T14:21:41.205137Z"
    }
   },
   "cell_type": "code",
   "source": [
    "df = pd.DataFrame(data)\n",
    "pd.set_option(\"display.max_colwidth\", None)\n",
    "df.head(10)"
   ],
   "id": "3be3f6c766dc88f0",
   "outputs": [
    {
     "data": {
      "text/plain": [
       "    marque annee prix (FCFA)                    adresse  \\\n",
       "0  Citroen  2014       20000              Médina,,Dakar   \n",
       "1  Peugeot  2013       30000          Grand-Yoff,,Dakar   \n",
       "2     Ford  2014       30000           Sangalkam,,Dakar   \n",
       "3     Ford  2015       35000    Cité Keur gorgui,,Dakar   \n",
       "4   Toyota  2020       35000  Mermoz Sacré-Coeur,,Dakar   \n",
       "5  Hyundai  2015       20000  Mermoz Sacré-Coeur,,Dakar   \n",
       "6  Hyundai  2015       20000  Mermoz Sacré-Coeur,,Dakar   \n",
       "7   Toyota  2014       25000  Mermoz Sacré-Coeur,,Dakar   \n",
       "8     Ford  2014       30000              Médina,,Dakar   \n",
       "9      Kia  2015       25000            Almadies,,Dakar   \n",
       "\n",
       "                          proprietaire  \n",
       "0                  Chasseur Automobile  \n",
       "1                           Chic Drive  \n",
       "2                       Medoune Ndiaye  \n",
       "3               Pape Cheikh automobile  \n",
       "4  LocAuto Sénégal Location de voiture  \n",
       "5  LocAuto Sénégal Location de voiture  \n",
       "6  LocAuto Sénégal Location de voiture  \n",
       "7  LocAuto Sénégal Location de voiture  \n",
       "8                        Bakay Samassa  \n",
       "9                      Moustapha SAMBA  "
      ],
      "text/html": [
       "<div>\n",
       "<style scoped>\n",
       "    .dataframe tbody tr th:only-of-type {\n",
       "        vertical-align: middle;\n",
       "    }\n",
       "\n",
       "    .dataframe tbody tr th {\n",
       "        vertical-align: top;\n",
       "    }\n",
       "\n",
       "    .dataframe thead th {\n",
       "        text-align: right;\n",
       "    }\n",
       "</style>\n",
       "<table border=\"1\" class=\"dataframe\">\n",
       "  <thead>\n",
       "    <tr style=\"text-align: right;\">\n",
       "      <th></th>\n",
       "      <th>marque</th>\n",
       "      <th>annee</th>\n",
       "      <th>prix (FCFA)</th>\n",
       "      <th>adresse</th>\n",
       "      <th>proprietaire</th>\n",
       "    </tr>\n",
       "  </thead>\n",
       "  <tbody>\n",
       "    <tr>\n",
       "      <th>0</th>\n",
       "      <td>Citroen</td>\n",
       "      <td>2014</td>\n",
       "      <td>20000</td>\n",
       "      <td>Médina,,Dakar</td>\n",
       "      <td>Chasseur Automobile</td>\n",
       "    </tr>\n",
       "    <tr>\n",
       "      <th>1</th>\n",
       "      <td>Peugeot</td>\n",
       "      <td>2013</td>\n",
       "      <td>30000</td>\n",
       "      <td>Grand-Yoff,,Dakar</td>\n",
       "      <td>Chic Drive</td>\n",
       "    </tr>\n",
       "    <tr>\n",
       "      <th>2</th>\n",
       "      <td>Ford</td>\n",
       "      <td>2014</td>\n",
       "      <td>30000</td>\n",
       "      <td>Sangalkam,,Dakar</td>\n",
       "      <td>Medoune Ndiaye</td>\n",
       "    </tr>\n",
       "    <tr>\n",
       "      <th>3</th>\n",
       "      <td>Ford</td>\n",
       "      <td>2015</td>\n",
       "      <td>35000</td>\n",
       "      <td>Cité Keur gorgui,,Dakar</td>\n",
       "      <td>Pape Cheikh automobile</td>\n",
       "    </tr>\n",
       "    <tr>\n",
       "      <th>4</th>\n",
       "      <td>Toyota</td>\n",
       "      <td>2020</td>\n",
       "      <td>35000</td>\n",
       "      <td>Mermoz Sacré-Coeur,,Dakar</td>\n",
       "      <td>LocAuto Sénégal Location de voiture</td>\n",
       "    </tr>\n",
       "    <tr>\n",
       "      <th>5</th>\n",
       "      <td>Hyundai</td>\n",
       "      <td>2015</td>\n",
       "      <td>20000</td>\n",
       "      <td>Mermoz Sacré-Coeur,,Dakar</td>\n",
       "      <td>LocAuto Sénégal Location de voiture</td>\n",
       "    </tr>\n",
       "    <tr>\n",
       "      <th>6</th>\n",
       "      <td>Hyundai</td>\n",
       "      <td>2015</td>\n",
       "      <td>20000</td>\n",
       "      <td>Mermoz Sacré-Coeur,,Dakar</td>\n",
       "      <td>LocAuto Sénégal Location de voiture</td>\n",
       "    </tr>\n",
       "    <tr>\n",
       "      <th>7</th>\n",
       "      <td>Toyota</td>\n",
       "      <td>2014</td>\n",
       "      <td>25000</td>\n",
       "      <td>Mermoz Sacré-Coeur,,Dakar</td>\n",
       "      <td>LocAuto Sénégal Location de voiture</td>\n",
       "    </tr>\n",
       "    <tr>\n",
       "      <th>8</th>\n",
       "      <td>Ford</td>\n",
       "      <td>2014</td>\n",
       "      <td>30000</td>\n",
       "      <td>Médina,,Dakar</td>\n",
       "      <td>Bakay Samassa</td>\n",
       "    </tr>\n",
       "    <tr>\n",
       "      <th>9</th>\n",
       "      <td>Kia</td>\n",
       "      <td>2015</td>\n",
       "      <td>25000</td>\n",
       "      <td>Almadies,,Dakar</td>\n",
       "      <td>Moustapha SAMBA</td>\n",
       "    </tr>\n",
       "  </tbody>\n",
       "</table>\n",
       "</div>"
      ]
     },
     "execution_count": 5,
     "metadata": {},
     "output_type": "execute_result"
    }
   ],
   "execution_count": 5
  }
 ],
 "metadata": {
  "kernelspec": {
   "display_name": "Python 3",
   "language": "python",
   "name": "python3"
  },
  "language_info": {
   "codemirror_mode": {
    "name": "ipython",
    "version": 2
   },
   "file_extension": ".py",
   "mimetype": "text/x-python",
   "name": "python",
   "nbconvert_exporter": "python",
   "pygments_lexer": "ipython2",
   "version": "2.7.6"
  }
 },
 "nbformat": 4,
 "nbformat_minor": 5
}
